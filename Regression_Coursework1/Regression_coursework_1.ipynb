{
 "cells": [
  {
   "cell_type": "code",
   "execution_count": 2,
   "id": "10db740e-3f87-443c-b483-71ff3fa906e6",
   "metadata": {},
   "outputs": [],
   "source": [
    "import json\n",
    "import gzip\n",
    "import math\n",
    "from collections import defaultdict\n",
    "import numpy\n",
    "from sklearn import linear_model\n",
    "import random\n",
    "import statistics\n",
    "from math import inf"
   ]
  },
  {
   "cell_type": "code",
   "execution_count": 3,
   "id": "7ca8a72a-66d8-4b12-9906-ef3bb471f15c",
   "metadata": {},
   "outputs": [],
   "source": [
    "z = gzip.open(\"train.json.gz\")\n",
    "\n",
    "dataset = []\n",
    "for l in z:\n",
    "    d = eval(l)\n",
    "    dataset.append(d)\n",
    "\n",
    "z.close()"
   ]
  },
  {
   "cell_type": "code",
   "execution_count": 4,
   "id": "953addf4-56a2-42b1-be94-11cf172859c8",
   "metadata": {},
   "outputs": [],
   "source": [
    "def assertFloat(x):\n",
    "    assert type(float(x)) == float\n",
    "\n",
    "def assertFloatList(items, N):\n",
    "    assert len(items) == N\n",
    "    assert [type(float(x)) for x in items] == [float]*N"
   ]
  },
  {
   "cell_type": "code",
   "execution_count": 5,
   "id": "12b32566-9f73-49e1-8799-3e0666dd4918",
   "metadata": {},
   "outputs": [],
   "source": [
    "answers = {}"
   ]
  },
  {
   "cell_type": "code",
   "execution_count": 6,
   "id": "773e02fb-c34f-4274-b882-a32232fe4173",
   "metadata": {},
   "outputs": [
    {
     "data": {
      "text/plain": [
       "{'hours': 0.3,\n",
       " 'gameID': 'g35322304',\n",
       " 'hours_transformed': 0.37851162325372983,\n",
       " 'early_access': False,\n",
       " 'date': '2015-04-08',\n",
       " 'text': '+1',\n",
       " 'userID': 'u55351001'}"
      ]
     },
     "execution_count": 6,
     "metadata": {},
     "output_type": "execute_result"
    }
   ],
   "source": [
    "dataset[0]"
   ]
  },
  {
   "cell_type": "markdown",
   "id": "49544787-b1bc-4298-921f-914aa834b963",
   "metadata": {},
   "source": [
    "# MSE, MAE "
   ]
  },
  {
   "cell_type": "code",
   "execution_count": 7,
   "id": "4af69f04-4603-48a8-bb68-93c311c6d1d4",
   "metadata": {},
   "outputs": [],
   "source": [
    "def MSE(y, ypred):\n",
    "    differences = [(x-y)**2 for x,y in zip(y,ypred)]\n",
    "    return sum(differences) / len(differences)   \n",
    "    \n",
    "def MAE(y, ypred):\n",
    "    differences = [abs(x-y) for x,y in zip(y,ypred)]\n",
    "    return sum(differences) / len(differences)   "
   ]
  },
  {
   "cell_type": "code",
   "execution_count": null,
   "id": "2e5ecff3-73aa-412b-9d04-857cc051aec0",
   "metadata": {},
   "outputs": [],
   "source": [
    "### Question 1"
   ]
  },
  {
   "cell_type": "code",
   "execution_count": 8,
   "id": "3e461bd0-a973-4b14-bc81-1cccdfa1bc29",
   "metadata": {},
   "outputs": [],
   "source": [
    "reviewsPerUser = defaultdict(list)\n",
    "reviewsPerItem = defaultdict(list)\n",
    "\n",
    "for d in dataset:\n",
    "    u,i = d['userID'],d['gameID']\n",
    "    reviewsPerUser[u].append(d)\n",
    "    reviewsPerItem[i].append(d)\n",
    "    \n",
    "for u in reviewsPerUser:\n",
    "    reviewsPerUser[u].sort(key=lambda x: x['date'])\n",
    "    \n",
    "for i in reviewsPerItem:\n",
    "    reviewsPerItem[i].sort(key=lambda x: x['date'])"
   ]
  },
  {
   "cell_type": "code",
   "execution_count": 9,
   "id": "a978786f-7910-43fb-aaf4-e5f0ba5fbc4e",
   "metadata": {},
   "outputs": [],
   "source": [
    "def feat1(datum):\n",
    "    feat = [datum['hours']]\n",
    "    return [1] + feat"
   ]
  },
  {
   "cell_type": "code",
   "execution_count": 10,
   "id": "c016c753-c488-4fdf-ad3c-3f6c0f0774a7",
   "metadata": {},
   "outputs": [],
   "source": [
    "X = [feat1(d) for d in dataset]\n",
    "y = [len(d['text']) for d in dataset]"
   ]
  },
  {
   "cell_type": "code",
   "execution_count": 11,
   "id": "ae6269cc-54db-4c14-9009-8f66cb67932b",
   "metadata": {},
   "outputs": [
    {
     "data": {
      "text/plain": [
       "[1, 0.3]"
      ]
     },
     "execution_count": 11,
     "metadata": {},
     "output_type": "execute_result"
    }
   ],
   "source": [
    "X[0]"
   ]
  },
  {
   "cell_type": "code",
   "execution_count": 12,
   "id": "9d33f2e9-3699-47cf-bf5a-c7ac71fc62fd",
   "metadata": {},
   "outputs": [
    {
     "data": {
      "text/plain": [
       "2"
      ]
     },
     "execution_count": 12,
     "metadata": {},
     "output_type": "execute_result"
    }
   ],
   "source": [
    "y[0]"
   ]
  },
  {
   "cell_type": "code",
   "execution_count": 13,
   "id": "2e725f08-cdda-4687-af56-cf5b21fa7506",
   "metadata": {
    "scrolled": true
   },
   "outputs": [],
   "source": [
    "mod = linear_model.LinearRegression(fit_intercept=False)\n",
    "mod.fit(X,y)\n",
    "predictions = mod.predict(X)"
   ]
  },
  {
   "cell_type": "code",
   "execution_count": 14,
   "id": "b0204c7d-40fb-43a9-af17-e8273faa897b",
   "metadata": {},
   "outputs": [
    {
     "data": {
      "text/plain": [
       "390.440655847015"
      ]
     },
     "execution_count": 14,
     "metadata": {},
     "output_type": "execute_result"
    }
   ],
   "source": [
    "predictions[0]"
   ]
  },
  {
   "cell_type": "code",
   "execution_count": 15,
   "id": "d055c2e4-1240-4cad-8db4-5043aa4f29bb",
   "metadata": {},
   "outputs": [
    {
     "data": {
      "text/plain": [
       "0.007857269704335923"
      ]
     },
     "execution_count": 15,
     "metadata": {},
     "output_type": "execute_result"
    }
   ],
   "source": [
    "theta = mod.coef_\n",
    "theta_1 = theta[1]\n",
    "theta_1"
   ]
  },
  {
   "cell_type": "code",
   "execution_count": 16,
   "id": "ff499a0e-554c-4d0a-8be4-d4cc6fdf2357",
   "metadata": {},
   "outputs": [
    {
     "data": {
      "text/plain": [
       "570936.2842458936"
      ]
     },
     "execution_count": 16,
     "metadata": {},
     "output_type": "execute_result"
    }
   ],
   "source": [
    "mse_q1 = MSE(y, predictions)\n",
    "mse_q1"
   ]
  },
  {
   "cell_type": "code",
   "execution_count": 17,
   "id": "cee86267-bbbc-4813-9ad5-8b61db0100b4",
   "metadata": {},
   "outputs": [],
   "source": [
    "answers['Q1'] = [theta_1, mse_q1]"
   ]
  },
  {
   "cell_type": "code",
   "execution_count": 47,
   "id": "bba3b78b-f69b-4cf5-b55a-1578b5dc0c66",
   "metadata": {},
   "outputs": [],
   "source": [
    "assertFloatList(answers['Q1'], 2)"
   ]
  },
  {
   "cell_type": "code",
   "execution_count": null,
   "id": "ded33c8f-7744-44a6-a944-45da973dc548",
   "metadata": {},
   "outputs": [],
   "source": [
    "### Question 2"
   ]
  },
  {
   "cell_type": "code",
   "execution_count": 18,
   "id": "483f55c2-96a5-4b98-a6d4-a26d9ec391d2",
   "metadata": {},
   "outputs": [],
   "source": [
    "hours_list = [d['hours'] for d in dataset]\n",
    "median_hours = numpy.median(hours_list)"
   ]
  },
  {
   "cell_type": "code",
   "execution_count": 19,
   "id": "ae4721d5-d959-4ece-9fb3-3e084b37030a",
   "metadata": {},
   "outputs": [
    {
     "data": {
      "text/plain": [
       "10.1"
      ]
     },
     "execution_count": 19,
     "metadata": {},
     "output_type": "execute_result"
    }
   ],
   "source": [
    "median_hours"
   ]
  },
  {
   "cell_type": "code",
   "execution_count": 20,
   "id": "d4f7c938-6d76-4959-a810-1cdf47d077b7",
   "metadata": {},
   "outputs": [],
   "source": [
    "def feat2(datum):\n",
    "    offset = [1]\n",
    "    feat = [datum['hours']] + [datum['hours_transformed']] + [datum['hours']**0.5] + [1 if datum['hours'] > median_hours else 0]\n",
    "    return offset + feat"
   ]
  },
  {
   "cell_type": "code",
   "execution_count": 21,
   "id": "1016dc63-3819-4456-bdbe-a460eee49813",
   "metadata": {},
   "outputs": [],
   "source": [
    "X = [feat2(d) for d in dataset]\n",
    "y = [len(d['text']) for d in dataset]"
   ]
  },
  {
   "cell_type": "code",
   "execution_count": 22,
   "id": "0479fceb-dfd8-4e14-ac5c-4e761898f8f2",
   "metadata": {},
   "outputs": [
    {
     "data": {
      "text/plain": [
       "[1, 0.3, 0.37851162325372983, 0.5477225575051661, 0]"
      ]
     },
     "execution_count": 22,
     "metadata": {},
     "output_type": "execute_result"
    }
   ],
   "source": [
    "X[0]"
   ]
  },
  {
   "cell_type": "code",
   "execution_count": 23,
   "id": "cd410b57-7c2a-47cd-b433-7c6e25870f51",
   "metadata": {},
   "outputs": [],
   "source": [
    "mod = linear_model.LinearRegression(fit_intercept=False)\n",
    "mod.fit(X,y)\n",
    "predictions = mod.predict(X)"
   ]
  },
  {
   "cell_type": "code",
   "execution_count": 24,
   "id": "abfaad19-795e-48b6-a9f3-dd68aaf5dcc6",
   "metadata": {},
   "outputs": [
    {
     "data": {
      "text/plain": [
       "240.83639117239971"
      ]
     },
     "execution_count": 24,
     "metadata": {},
     "output_type": "execute_result"
    }
   ],
   "source": [
    "predictions[0]"
   ]
  },
  {
   "cell_type": "code",
   "execution_count": 25,
   "id": "cf3b5d4c-3063-4a99-b662-7873a029d7b8",
   "metadata": {},
   "outputs": [
    {
     "data": {
      "text/plain": [
       "565419.5340402235"
      ]
     },
     "execution_count": 25,
     "metadata": {},
     "output_type": "execute_result"
    }
   ],
   "source": [
    "mse_q2 = MSE(y, predictions)\n",
    "mse_q2"
   ]
  },
  {
   "cell_type": "code",
   "execution_count": 26,
   "id": "740da233-35f5-463a-9089-3e3b28f8aa88",
   "metadata": {},
   "outputs": [],
   "source": [
    "answers['Q2'] = mse_q2"
   ]
  },
  {
   "cell_type": "code",
   "execution_count": 27,
   "id": "c2c9c73e-f69d-4d05-9a32-5b2b9cebf4c2",
   "metadata": {},
   "outputs": [],
   "source": [
    "assertFloat(answers['Q2'])"
   ]
  },
  {
   "cell_type": "code",
   "execution_count": 28,
   "id": "441e9622-b320-4c1f-b4f7-0f30f61f4c45",
   "metadata": {},
   "outputs": [
    {
     "data": {
      "text/plain": [
       "{'Q1': [0.007857269704335923, 570936.2842458936], 'Q2': 565419.5340402235}"
      ]
     },
     "execution_count": 28,
     "metadata": {},
     "output_type": "execute_result"
    }
   ],
   "source": [
    "answers"
   ]
  },
  {
   "cell_type": "code",
   "execution_count": null,
   "id": "c58f48cf-24bd-4fb9-9ab4-085c7bbd7782",
   "metadata": {},
   "outputs": [],
   "source": [
    "### Question 3"
   ]
  },
  {
   "cell_type": "code",
   "execution_count": 29,
   "id": "75941737-bf36-4493-87ae-0c8e85d7653f",
   "metadata": {},
   "outputs": [],
   "source": [
    "def feat3(datum):\n",
    "    offset = [1]\n",
    "    feat = [1 if datum['hours'] > 1 else 0] + [1 if datum['hours'] > 5 else 0] + [1 if datum['hours'] > 10 else 0] + [1 if datum['hours'] > 100 else 0] + [1 if datum['hours'] > 1000 else 0]\n",
    "    return offset + feat   "
   ]
  },
  {
   "cell_type": "code",
   "execution_count": 30,
   "id": "d6a8e955-94f9-4d6d-b10d-8084978db642",
   "metadata": {},
   "outputs": [],
   "source": [
    "X = [feat3(d) for d in dataset]"
   ]
  },
  {
   "cell_type": "code",
   "execution_count": 31,
   "id": "2248e753-0050-4ab5-9c9e-4b924649b080",
   "metadata": {},
   "outputs": [
    {
     "data": {
      "text/plain": [
       "[1, 0, 0, 0, 0, 0]"
      ]
     },
     "execution_count": 31,
     "metadata": {},
     "output_type": "execute_result"
    }
   ],
   "source": [
    "X[0]"
   ]
  },
  {
   "cell_type": "code",
   "execution_count": 32,
   "id": "48899632-9069-4298-af13-25e4ee6b6056",
   "metadata": {},
   "outputs": [],
   "source": [
    "mod = linear_model.LinearRegression(fit_intercept=False)\n",
    "mod.fit(X,y)\n",
    "predictions = mod.predict(X)"
   ]
  },
  {
   "cell_type": "code",
   "execution_count": 33,
   "id": "eec4e73e-b927-4c0f-968f-7207bf4906ce",
   "metadata": {},
   "outputs": [
    {
     "data": {
      "text/plain": [
       "565405.4395885813"
      ]
     },
     "execution_count": 33,
     "metadata": {},
     "output_type": "execute_result"
    }
   ],
   "source": [
    "mse_q3 = MSE(y, predictions)\n",
    "mse_q3"
   ]
  },
  {
   "cell_type": "code",
   "execution_count": 34,
   "id": "9b76d2fb-f6e2-4631-8d76-09d172d9cd2c",
   "metadata": {},
   "outputs": [],
   "source": [
    "answers['Q3'] = mse_q3"
   ]
  },
  {
   "cell_type": "code",
   "execution_count": 35,
   "id": "665b9355-5228-4a69-9d39-7eb7ee65ff34",
   "metadata": {},
   "outputs": [],
   "source": [
    "assertFloat(answers['Q3'])"
   ]
  },
  {
   "cell_type": "code",
   "execution_count": 36,
   "id": "f8c711ec-7e4a-453e-87d1-f9dc97ccadd6",
   "metadata": {},
   "outputs": [
    {
     "data": {
      "text/plain": [
       "{'Q1': [0.007857269704335923, 570936.2842458936],\n",
       " 'Q2': 565419.5340402235,\n",
       " 'Q3': 565405.4395885813}"
      ]
     },
     "execution_count": 36,
     "metadata": {},
     "output_type": "execute_result"
    }
   ],
   "source": [
    "answers"
   ]
  },
  {
   "cell_type": "code",
   "execution_count": null,
   "id": "251b1413-cc06-453c-91de-1158ff81b8f6",
   "metadata": {},
   "outputs": [],
   "source": [
    "### Question 4"
   ]
  },
  {
   "cell_type": "code",
   "execution_count": 37,
   "id": "415c4750-4c4b-4c59-889e-24f04bdd7760",
   "metadata": {},
   "outputs": [],
   "source": [
    "def feat4(datum):\n",
    "    offset = [1]\n",
    "    feat = [len(datum['text'])]\n",
    "    return offset + feat"
   ]
  },
  {
   "cell_type": "code",
   "execution_count": 38,
   "id": "92835cf6-47a9-43b8-9cef-a03b78824e87",
   "metadata": {},
   "outputs": [],
   "source": [
    "X = [feat4(d) for d in dataset]\n",
    "y = [d['hours']for d in dataset]"
   ]
  },
  {
   "cell_type": "code",
   "execution_count": 39,
   "id": "204d92b5-b56a-42c0-9ceb-db3edadeccf7",
   "metadata": {},
   "outputs": [
    {
     "name": "stdout",
     "output_type": "stream",
     "text": [
      "[1, 2]\n",
      "0.3\n"
     ]
    }
   ],
   "source": [
    "print(X[0])\n",
    "print(y[0])"
   ]
  },
  {
   "cell_type": "code",
   "execution_count": 40,
   "id": "1120cc87-0f2e-4762-a138-852e08f62bdd",
   "metadata": {},
   "outputs": [],
   "source": [
    "mod = linear_model.LinearRegression(fit_intercept=False)\n",
    "mod.fit(X,y)\n",
    "predictions = mod.predict(X)"
   ]
  },
  {
   "cell_type": "code",
   "execution_count": 41,
   "id": "c4414669-a06c-49a8-87ea-8f89882ed9b9",
   "metadata": {},
   "outputs": [
    {
     "data": {
      "text/plain": [
       "66.00278301332149"
      ]
     },
     "execution_count": 41,
     "metadata": {},
     "output_type": "execute_result"
    }
   ],
   "source": [
    "predictions[0]"
   ]
  },
  {
   "cell_type": "code",
   "execution_count": 42,
   "id": "d114c39e-c66b-408c-a8af-f4e75aaff38f",
   "metadata": {},
   "outputs": [],
   "source": [
    "mse = MSE(y, predictions)\n",
    "mae = MAE(y, predictions)"
   ]
  },
  {
   "cell_type": "code",
   "execution_count": 43,
   "id": "9751628d-b333-4812-97e1-64b5dfc08704",
   "metadata": {},
   "outputs": [
    {
     "name": "stdout",
     "output_type": "stream",
     "text": [
      "75735.70018273004\n",
      "90.35613031985152\n"
     ]
    }
   ],
   "source": [
    "print(mse)\n",
    "print(mae)"
   ]
  },
  {
   "cell_type": "code",
   "execution_count": 44,
   "id": "61b9672f-a7d6-4eec-8c16-dcd9a3679380",
   "metadata": {},
   "outputs": [],
   "source": [
    "answers['Q4'] = [mse, mae, \"I think MAE is the suitable indicator here, by taking the absolute value of errors, treats all deviations from the true values equally. It is thus more robust to outliers compared to MSE, which squares the errors, giving disproportionately high weight to large deviations (outliers). Given that we have widely varying lengths in dataset, the chances are that we might also have some outliers. In such a scenario, we would not want these outliers to distort your error metric excessively, which could happen with MSE.\"]"
   ]
  },
  {
   "cell_type": "code",
   "execution_count": 45,
   "id": "1dbd8d72-a1b6-4eb9-b903-da8c15c04b94",
   "metadata": {},
   "outputs": [],
   "source": [
    "assertFloatList(answers['Q4'][:2], 2)"
   ]
  },
  {
   "cell_type": "code",
   "execution_count": 46,
   "id": "0cdefdb2-1325-4cbe-ab14-a3d337fb6358",
   "metadata": {},
   "outputs": [
    {
     "data": {
      "text/plain": [
       "{'Q1': [0.007857269704335923, 570936.2842458936],\n",
       " 'Q2': 565419.5340402235,\n",
       " 'Q3': 565405.4395885813,\n",
       " 'Q4': [75735.70018273004,\n",
       "  90.35613031985152,\n",
       "  'I think MAE is the suitable indicator here, by taking the absolute value of errors, treats all deviations from the true values equally. It is thus more robust to outliers compared to MSE, which squares the errors, giving disproportionately high weight to large deviations (outliers). Given that we have widely varying lengths in dataset, the chances are that we might also have some outliers. In such a scenario, we would not want these outliers to distort your error metric excessively, which could happen with MSE.']}"
      ]
     },
     "execution_count": 46,
     "metadata": {},
     "output_type": "execute_result"
    }
   ],
   "source": [
    "answers"
   ]
  },
  {
   "cell_type": "code",
   "execution_count": null,
   "id": "198aa49e-7c4c-4690-812b-76ad4a1110ad",
   "metadata": {},
   "outputs": [],
   "source": [
    "### Question 5"
   ]
  },
  {
   "cell_type": "code",
   "execution_count": 47,
   "id": "e78427ba-d6f9-4cea-bf54-0924a94a3d28",
   "metadata": {},
   "outputs": [],
   "source": [
    "def feat5(datum):\n",
    "    offset = [1]\n",
    "    feat = [len(datum['text'])]\n",
    "    return offset + feat"
   ]
  },
  {
   "cell_type": "code",
   "execution_count": 48,
   "id": "87a83450-56e4-47b3-8d31-ac6f6f43c34b",
   "metadata": {},
   "outputs": [],
   "source": [
    "X = [feat5(d) for d in dataset]\n",
    "y_trans = [d['hours_transformed'] for d in dataset]"
   ]
  },
  {
   "cell_type": "code",
   "execution_count": 49,
   "id": "5c0bee05-38a6-4738-af77-4c9b7f1a7dff",
   "metadata": {},
   "outputs": [
    {
     "name": "stdout",
     "output_type": "stream",
     "text": [
      "[1, 2]\n",
      "0.37851162325372983\n"
     ]
    }
   ],
   "source": [
    "print(X[0])\n",
    "print(y_trans[0])"
   ]
  },
  {
   "cell_type": "code",
   "execution_count": 50,
   "id": "bc91206e-ef07-4297-ba35-e74de00df27b",
   "metadata": {},
   "outputs": [],
   "source": [
    "mod = linear_model.LinearRegression(fit_intercept=False)\n",
    "mod.fit(X,y_trans)\n",
    "predictions_trans = mod.predict(X)"
   ]
  },
  {
   "cell_type": "code",
   "execution_count": 51,
   "id": "76ce3dac-1f9d-4484-b6ce-0a59be87da49",
   "metadata": {},
   "outputs": [
    {
     "data": {
      "text/plain": [
       "3.63648953426789"
      ]
     },
     "execution_count": 51,
     "metadata": {},
     "output_type": "execute_result"
    }
   ],
   "source": [
    "predictions_trans[0]"
   ]
  },
  {
   "cell_type": "code",
   "execution_count": 52,
   "id": "1fbd8cc5-6d98-451c-8d00-76b538b713ab",
   "metadata": {},
   "outputs": [
    {
     "data": {
      "text/plain": [
       "5.255254235328278"
      ]
     },
     "execution_count": 52,
     "metadata": {},
     "output_type": "execute_result"
    }
   ],
   "source": [
    "mse_trans = MSE(y_trans, predictions_trans)# MSE using the transformed variable\n",
    "mse_trans"
   ]
  },
  {
   "cell_type": "code",
   "execution_count": 53,
   "id": "7500b9a5-ebae-4efb-b451-d1708896177b",
   "metadata": {},
   "outputs": [],
   "source": [
    "predictions_untrans = [2**p - 1 for p in predictions_trans] # Undoing the transformation"
   ]
  },
  {
   "cell_type": "code",
   "execution_count": 54,
   "id": "82c96fcf-98a6-4b0a-a768-ec304ab595e4",
   "metadata": {},
   "outputs": [
    {
     "data": {
      "text/plain": [
       "11.436335473298154"
      ]
     },
     "execution_count": 54,
     "metadata": {},
     "output_type": "execute_result"
    }
   ],
   "source": [
    "predictions_untrans[0]"
   ]
  },
  {
   "cell_type": "code",
   "execution_count": 55,
   "id": "dd003163-6b3d-4d99-981b-38654ef3128f",
   "metadata": {},
   "outputs": [],
   "source": [
    "y_untrans = [d['hours']for d in dataset]"
   ]
  },
  {
   "cell_type": "code",
   "execution_count": 56,
   "id": "b435ea70-3e15-4e0d-91ec-8a787e146750",
   "metadata": {},
   "outputs": [
    {
     "data": {
      "text/plain": [
       "0.3"
      ]
     },
     "execution_count": 56,
     "metadata": {},
     "output_type": "execute_result"
    }
   ],
   "source": [
    "y_untrans[0]"
   ]
  },
  {
   "cell_type": "code",
   "execution_count": 57,
   "id": "a6ef7744-8425-407b-a820-dfdf64c21e8c",
   "metadata": {},
   "outputs": [],
   "source": [
    "mse_untrans = MSE(y_untrans, predictions_untrans)"
   ]
  },
  {
   "cell_type": "code",
   "execution_count": 58,
   "id": "93d185fd-a7a0-4993-9001-3eb3fcb09c44",
   "metadata": {},
   "outputs": [],
   "source": [
    "answers['Q5'] = [mse_trans, mse_untrans]"
   ]
  },
  {
   "cell_type": "code",
   "execution_count": 59,
   "id": "7ac30e89-efb2-46b2-b72b-1c46ebad081a",
   "metadata": {},
   "outputs": [],
   "source": [
    "assertFloatList(answers['Q5'], 2)"
   ]
  },
  {
   "cell_type": "code",
   "execution_count": 60,
   "id": "d11dda03-a800-4dbb-af16-88db8e0ce909",
   "metadata": {},
   "outputs": [
    {
     "data": {
      "text/plain": [
       "{'Q1': [0.007857269704335923, 570936.2842458936],\n",
       " 'Q2': 565419.5340402235,\n",
       " 'Q3': 565405.4395885813,\n",
       " 'Q4': [75735.70018273004,\n",
       "  90.35613031985152,\n",
       "  'I think MAE is the suitable indicator here, by taking the absolute value of errors, treats all deviations from the true values equally. It is thus more robust to outliers compared to MSE, which squares the errors, giving disproportionately high weight to large deviations (outliers). Given that we have widely varying lengths in dataset, the chances are that we might also have some outliers. In such a scenario, we would not want these outliers to distort your error metric excessively, which could happen with MSE.'],\n",
       " 'Q5': [5.255254235328278, 78668.56502956818]}"
      ]
     },
     "execution_count": 60,
     "metadata": {},
     "output_type": "execute_result"
    }
   ],
   "source": [
    "answers"
   ]
  },
  {
   "cell_type": "code",
   "execution_count": 61,
   "id": "b0bd67be-9c16-4356-a5d9-f319b6af53a1",
   "metadata": {},
   "outputs": [],
   "source": [
    "### Question 6"
   ]
  },
  {
   "cell_type": "code",
   "execution_count": 62,
   "id": "f637712f-6942-4801-84b4-18489c9ecb93",
   "metadata": {},
   "outputs": [],
   "source": [
    "def feat6(datum):\n",
    "    feat = [0]*100 \n",
    "    offset = [1]\n",
    "    hours_played = int(datum['hours'])  # Floor the number of hours played\n",
    "    if hours_played >= 100:\n",
    "        feat[-1] = 1  # If hours played is 99 or more, set the last element to 1\n",
    "    else:\n",
    "        feat[hours_played] = 1  # Otherwise, set the corresponding element to 1\n",
    "    return offset + feat"
   ]
  },
  {
   "cell_type": "code",
   "execution_count": 63,
   "id": "be544164-aabc-4555-9100-5a44dfa91755",
   "metadata": {},
   "outputs": [],
   "source": [
    "X = [feat6(d) for d in dataset]\n",
    "y = [len(d['text']) for d in dataset]"
   ]
  },
  {
   "cell_type": "code",
   "execution_count": 64,
   "id": "ed98e98a-4b8f-4a8a-9792-085cab055ee4",
   "metadata": {},
   "outputs": [],
   "source": [
    "Xtrain, Xvalid, Xtest = X[:len(X)//2], X[len(X)//2:(3*len(X))//4], X[(3*len(X))//4:]\n",
    "ytrain, yvalid, ytest = y[:len(X)//2], y[len(X)//2:(3*len(X))//4], y[(3*len(X))//4:]"
   ]
  },
  {
   "cell_type": "code",
   "execution_count": 65,
   "id": "8c145ea1-c628-4591-a33a-b250e331994e",
   "metadata": {},
   "outputs": [],
   "source": [
    "models = {}\n",
    "mses = {}\n",
    "bestC = None\n",
    "best_mse_valid = inf\n",
    "\n",
    "for c in [1, 10, 100, 1000, 10000]:\n",
    "    # Create and fit the Ridge regression model\n",
    "    model = linear_model.Ridge(alpha=c)\n",
    "    model.fit(Xtrain, ytrain)\n",
    "    \n",
    "    # Store the model\n",
    "    models[c] = model\n",
    "    \n",
    "    # Predict on the validation set\n",
    "    predictions_valid = model.predict(Xvalid)\n",
    "    \n",
    "    # Compute the MSE on the validation set\n",
    "    mse_valid = MSE(yvalid, predictions_valid)\n",
    "    mses[c] = mse_valid\n",
    "    if mse_valid < best_mse_valid:\n",
    "        bestC = c\n",
    "        best_mse_valid = mse_valid"
   ]
  },
  {
   "cell_type": "code",
   "execution_count": 66,
   "id": "722a28b5-b730-42af-9e17-cd3760609a0b",
   "metadata": {},
   "outputs": [
    {
     "name": "stdout",
     "output_type": "stream",
     "text": [
      "581432.8208480775\n",
      "1000\n"
     ]
    }
   ],
   "source": [
    "print(best_mse_valid)\n",
    "print(bestC)"
   ]
  },
  {
   "cell_type": "code",
   "execution_count": 67,
   "id": "14068b06-aa6d-42c7-bcdd-de801192320b",
   "metadata": {},
   "outputs": [
    {
     "data": {
      "text/html": [
       "<style>#sk-container-id-1 {color: black;}#sk-container-id-1 pre{padding: 0;}#sk-container-id-1 div.sk-toggleable {background-color: white;}#sk-container-id-1 label.sk-toggleable__label {cursor: pointer;display: block;width: 100%;margin-bottom: 0;padding: 0.3em;box-sizing: border-box;text-align: center;}#sk-container-id-1 label.sk-toggleable__label-arrow:before {content: \"▸\";float: left;margin-right: 0.25em;color: #696969;}#sk-container-id-1 label.sk-toggleable__label-arrow:hover:before {color: black;}#sk-container-id-1 div.sk-estimator:hover label.sk-toggleable__label-arrow:before {color: black;}#sk-container-id-1 div.sk-toggleable__content {max-height: 0;max-width: 0;overflow: hidden;text-align: left;background-color: #f0f8ff;}#sk-container-id-1 div.sk-toggleable__content pre {margin: 0.2em;color: black;border-radius: 0.25em;background-color: #f0f8ff;}#sk-container-id-1 input.sk-toggleable__control:checked~div.sk-toggleable__content {max-height: 200px;max-width: 100%;overflow: auto;}#sk-container-id-1 input.sk-toggleable__control:checked~label.sk-toggleable__label-arrow:before {content: \"▾\";}#sk-container-id-1 div.sk-estimator input.sk-toggleable__control:checked~label.sk-toggleable__label {background-color: #d4ebff;}#sk-container-id-1 div.sk-label input.sk-toggleable__control:checked~label.sk-toggleable__label {background-color: #d4ebff;}#sk-container-id-1 input.sk-hidden--visually {border: 0;clip: rect(1px 1px 1px 1px);clip: rect(1px, 1px, 1px, 1px);height: 1px;margin: -1px;overflow: hidden;padding: 0;position: absolute;width: 1px;}#sk-container-id-1 div.sk-estimator {font-family: monospace;background-color: #f0f8ff;border: 1px dotted black;border-radius: 0.25em;box-sizing: border-box;margin-bottom: 0.5em;}#sk-container-id-1 div.sk-estimator:hover {background-color: #d4ebff;}#sk-container-id-1 div.sk-parallel-item::after {content: \"\";width: 100%;border-bottom: 1px solid gray;flex-grow: 1;}#sk-container-id-1 div.sk-label:hover label.sk-toggleable__label {background-color: #d4ebff;}#sk-container-id-1 div.sk-serial::before {content: \"\";position: absolute;border-left: 1px solid gray;box-sizing: border-box;top: 0;bottom: 0;left: 50%;z-index: 0;}#sk-container-id-1 div.sk-serial {display: flex;flex-direction: column;align-items: center;background-color: white;padding-right: 0.2em;padding-left: 0.2em;position: relative;}#sk-container-id-1 div.sk-item {position: relative;z-index: 1;}#sk-container-id-1 div.sk-parallel {display: flex;align-items: stretch;justify-content: center;background-color: white;position: relative;}#sk-container-id-1 div.sk-item::before, #sk-container-id-1 div.sk-parallel-item::before {content: \"\";position: absolute;border-left: 1px solid gray;box-sizing: border-box;top: 0;bottom: 0;left: 50%;z-index: -1;}#sk-container-id-1 div.sk-parallel-item {display: flex;flex-direction: column;z-index: 1;position: relative;background-color: white;}#sk-container-id-1 div.sk-parallel-item:first-child::after {align-self: flex-end;width: 50%;}#sk-container-id-1 div.sk-parallel-item:last-child::after {align-self: flex-start;width: 50%;}#sk-container-id-1 div.sk-parallel-item:only-child::after {width: 0;}#sk-container-id-1 div.sk-dashed-wrapped {border: 1px dashed gray;margin: 0 0.4em 0.5em 0.4em;box-sizing: border-box;padding-bottom: 0.4em;background-color: white;}#sk-container-id-1 div.sk-label label {font-family: monospace;font-weight: bold;display: inline-block;line-height: 1.2em;}#sk-container-id-1 div.sk-label-container {text-align: center;}#sk-container-id-1 div.sk-container {/* jupyter's `normalize.less` sets `[hidden] { display: none; }` but bootstrap.min.css set `[hidden] { display: none !important; }` so we also need the `!important` here to be able to override the default hidden behavior on the sphinx rendered scikit-learn.org. See: https://github.com/scikit-learn/scikit-learn/issues/21755 */display: inline-block !important;position: relative;}#sk-container-id-1 div.sk-text-repr-fallback {display: none;}</style><div id=\"sk-container-id-1\" class=\"sk-top-container\"><div class=\"sk-text-repr-fallback\"><pre>Ridge(alpha=1000)</pre><b>In a Jupyter environment, please rerun this cell to show the HTML representation or trust the notebook. <br />On GitHub, the HTML representation is unable to render, please try loading this page with nbviewer.org.</b></div><div class=\"sk-container\" hidden><div class=\"sk-item\"><div class=\"sk-estimator sk-toggleable\"><input class=\"sk-toggleable__control sk-hidden--visually\" id=\"sk-estimator-id-1\" type=\"checkbox\" checked><label for=\"sk-estimator-id-1\" class=\"sk-toggleable__label sk-toggleable__label-arrow\">Ridge</label><div class=\"sk-toggleable__content\"><pre>Ridge(alpha=1000)</pre></div></div></div></div></div>"
      ],
      "text/plain": [
       "Ridge(alpha=1000)"
      ]
     },
     "execution_count": 67,
     "metadata": {},
     "output_type": "execute_result"
    }
   ],
   "source": [
    "best_model = linear_model.Ridge(alpha=bestC)\n",
    "best_model.fit(Xtrain, ytrain)"
   ]
  },
  {
   "cell_type": "code",
   "execution_count": 68,
   "id": "527e9e4b-866d-4438-9ad8-45e3120bc08c",
   "metadata": {},
   "outputs": [],
   "source": [
    "predictions_test = best_model.predict(Xtest)"
   ]
  },
  {
   "cell_type": "code",
   "execution_count": 69,
   "id": "0e5560a8-a211-421d-8980-31346069a486",
   "metadata": {},
   "outputs": [
    {
     "data": {
      "text/plain": [
       "581432.8208480775"
      ]
     },
     "execution_count": 69,
     "metadata": {},
     "output_type": "execute_result"
    }
   ],
   "source": [
    "mse_valid = best_mse_valid\n",
    "mse_valid"
   ]
  },
  {
   "cell_type": "code",
   "execution_count": 70,
   "id": "b9247d0b-c011-46fe-adc6-321638abb2fd",
   "metadata": {},
   "outputs": [
    {
     "data": {
      "text/plain": [
       "560786.7645482323"
      ]
     },
     "execution_count": 70,
     "metadata": {},
     "output_type": "execute_result"
    }
   ],
   "source": [
    "mse_test = MSE(ytest, predictions_test)\n",
    "mse_test"
   ]
  },
  {
   "cell_type": "code",
   "execution_count": 71,
   "id": "b18813e3-d95e-4c97-aafa-f2e33f6fe19b",
   "metadata": {},
   "outputs": [],
   "source": [
    "answers['Q6'] = [bestC, mse_valid, mse_test]"
   ]
  },
  {
   "cell_type": "code",
   "execution_count": 72,
   "id": "5fcee6c8-f106-4d36-979d-bacf2afed5a9",
   "metadata": {},
   "outputs": [],
   "source": [
    "assertFloatList(answers['Q6'], 3)"
   ]
  },
  {
   "cell_type": "code",
   "execution_count": 73,
   "id": "2929f0ea-8bbf-45b1-a434-09ba2e473731",
   "metadata": {},
   "outputs": [
    {
     "data": {
      "text/plain": [
       "{'Q1': [0.007857269704335923, 570936.2842458936],\n",
       " 'Q2': 565419.5340402235,\n",
       " 'Q3': 565405.4395885813,\n",
       " 'Q4': [75735.70018273004,\n",
       "  90.35613031985152,\n",
       "  'I think MAE is the suitable indicator here, by taking the absolute value of errors, treats all deviations from the true values equally. It is thus more robust to outliers compared to MSE, which squares the errors, giving disproportionately high weight to large deviations (outliers). Given that we have widely varying lengths in dataset, the chances are that we might also have some outliers. In such a scenario, we would not want these outliers to distort your error metric excessively, which could happen with MSE.'],\n",
       " 'Q5': [5.255254235328278, 78668.56502956818],\n",
       " 'Q6': [1000, 581432.8208480775, 560786.7645482323]}"
      ]
     },
     "execution_count": 73,
     "metadata": {},
     "output_type": "execute_result"
    }
   ],
   "source": [
    "answers"
   ]
  },
  {
   "cell_type": "code",
   "execution_count": 74,
   "id": "1ce77748-0b42-4ea9-acaa-70e318b22837",
   "metadata": {},
   "outputs": [],
   "source": [
    "### Question 7"
   ]
  },
  {
   "cell_type": "code",
   "execution_count": 75,
   "id": "fdb40446-531d-4c7f-91b7-ec7d271d9375",
   "metadata": {},
   "outputs": [],
   "source": [
    "times = [d['hours_transformed'] for d in dataset]\n",
    "median = statistics.median(times)"
   ]
  },
  {
   "cell_type": "code",
   "execution_count": 76,
   "id": "64d9f62e-09c8-41a7-9d86-0e051c15100b",
   "metadata": {},
   "outputs": [],
   "source": [
    "count_less_than_one_hour = 0\n",
    "for d in dataset:\n",
    "    if d['hours'] < 1:  \n",
    "        count_less_than_one_hour += 1  \n",
    "# notPlayed = \n",
    "nNotPlayed = count_less_than_one_hour"
   ]
  },
  {
   "cell_type": "code",
   "execution_count": 77,
   "id": "a69e9cef-fbf1-4867-9f3d-b0056da37fe3",
   "metadata": {},
   "outputs": [],
   "source": [
    "answers['Q7'] = [median, nNotPlayed]"
   ]
  },
  {
   "cell_type": "code",
   "execution_count": 78,
   "id": "cdd16fe0-f4c3-4b89-98ae-6593cbb35bd1",
   "metadata": {},
   "outputs": [],
   "source": [
    "assertFloatList(answers['Q7'], 2)"
   ]
  },
  {
   "cell_type": "code",
   "execution_count": 79,
   "id": "4d3f9670-489f-4865-8b0b-f297121a9179",
   "metadata": {},
   "outputs": [
    {
     "data": {
      "text/plain": [
       "[3.4724877714627436, 19913]"
      ]
     },
     "execution_count": 79,
     "metadata": {},
     "output_type": "execute_result"
    }
   ],
   "source": [
    "answers['Q7']"
   ]
  },
  {
   "cell_type": "code",
   "execution_count": 80,
   "id": "c5d7ec9a-cdd9-4b84-82cb-1fc8cc5cc720",
   "metadata": {},
   "outputs": [],
   "source": [
    "### Question 8"
   ]
  },
  {
   "cell_type": "code",
   "execution_count": 81,
   "id": "89a60179-c147-42bc-996a-2f9142268f7e",
   "metadata": {},
   "outputs": [],
   "source": [
    "def feat8(datum):\n",
    "    offset = [1]\n",
    "    feat = [len(datum['text'])]\n",
    "    return offset + feat"
   ]
  },
  {
   "cell_type": "code",
   "execution_count": 82,
   "id": "82eb608e-72a9-4a3e-8719-abeeb7ef907d",
   "metadata": {},
   "outputs": [],
   "source": [
    "X = [feat8(d) for d in dataset]\n",
    "y = [d['hours_transformed'] > median for d in dataset]"
   ]
  },
  {
   "cell_type": "code",
   "execution_count": 83,
   "id": "b200e283-b80f-4667-b131-8a2df7c80924",
   "metadata": {},
   "outputs": [
    {
     "name": "stdout",
     "output_type": "stream",
     "text": [
      "[1, 2]\n",
      "False\n"
     ]
    }
   ],
   "source": [
    "print(X[0])\n",
    "print(y[0])"
   ]
  },
  {
   "cell_type": "code",
   "execution_count": 84,
   "id": "87c0893f-a981-4f43-aca9-79d9b7d85ea3",
   "metadata": {},
   "outputs": [],
   "source": [
    "mod = linear_model.LogisticRegression(class_weight='balanced')\n",
    "mod.fit(X,y)\n",
    "predictions = mod.predict(X) # Binary vector of predictions"
   ]
  },
  {
   "cell_type": "code",
   "execution_count": 85,
   "id": "76e551aa-faf7-49c8-a0eb-4750b9631a58",
   "metadata": {},
   "outputs": [],
   "source": [
    "def rates(predictions, y):\n",
    "    TP = sum([(p and l) for (p,l) in zip(predictions, y)])\n",
    "    TN = sum([(not p and not l) for (p,l) in zip(predictions, y)])\n",
    "    FP = sum([(p and not l) for (p,l) in zip(predictions, y)])\n",
    "    FN = sum([(not p and l) for (p,l) in zip(predictions, y)])    \n",
    "    return TP, TN, FP, FN"
   ]
  },
  {
   "cell_type": "code",
   "execution_count": 86,
   "id": "88160be3-fd85-41eb-90ae-1ce1ee5afc07",
   "metadata": {},
   "outputs": [],
   "source": [
    "TP, TN, FP, FN = rates(predictions, y)"
   ]
  },
  {
   "cell_type": "code",
   "execution_count": 87,
   "id": "4e6bbca7-bf78-4139-b32e-980cb82ec884",
   "metadata": {},
   "outputs": [
    {
     "data": {
      "text/plain": [
       "(24656, 62526, 67811, 20007)"
      ]
     },
     "execution_count": 87,
     "metadata": {},
     "output_type": "execute_result"
    }
   ],
   "source": [
    "TP, FN, TN, FP"
   ]
  },
  {
   "cell_type": "code",
   "execution_count": 88,
   "id": "064d941e-8f67-4e08-9483-f68c95fff2ad",
   "metadata": {},
   "outputs": [],
   "source": [
    "TPR = TP/ (TP+FN)\n",
    "TNR = TN/ (TN+FP)"
   ]
  },
  {
   "cell_type": "code",
   "execution_count": 89,
   "id": "4f5ce88e-0195-41a9-9ead-a051c34bcd21",
   "metadata": {},
   "outputs": [
    {
     "name": "stdout",
     "output_type": "stream",
     "text": [
      "0.2828106719276915\n",
      "0.7721765469493725\n"
     ]
    }
   ],
   "source": [
    "print(TPR)\n",
    "print(TNR)"
   ]
  },
  {
   "cell_type": "code",
   "execution_count": 90,
   "id": "f6c7a73c-8b1f-4809-ac3f-602631f4007b",
   "metadata": {},
   "outputs": [],
   "source": [
    "BER = 1 - 1/2 * (TPR + TNR)"
   ]
  },
  {
   "cell_type": "code",
   "execution_count": 91,
   "id": "c00f4228-b42c-429d-9ef2-f3e49733ffd2",
   "metadata": {},
   "outputs": [],
   "source": [
    "answers['Q8'] = [TP, TN, FP, FN, BER]"
   ]
  },
  {
   "cell_type": "code",
   "execution_count": 92,
   "id": "dbc096e2-dffd-4dae-9d54-d98cb9d3ca21",
   "metadata": {},
   "outputs": [],
   "source": [
    "assertFloatList(answers['Q8'], 5)"
   ]
  },
  {
   "cell_type": "code",
   "execution_count": 93,
   "id": "5d6e0301-3696-463c-982c-bf4232300268",
   "metadata": {},
   "outputs": [
    {
     "data": {
      "text/plain": [
       "{'Q1': [0.007857269704335923, 570936.2842458936],\n",
       " 'Q2': 565419.5340402235,\n",
       " 'Q3': 565405.4395885813,\n",
       " 'Q4': [75735.70018273004,\n",
       "  90.35613031985152,\n",
       "  'I think MAE is the suitable indicator here, by taking the absolute value of errors, treats all deviations from the true values equally. It is thus more robust to outliers compared to MSE, which squares the errors, giving disproportionately high weight to large deviations (outliers). Given that we have widely varying lengths in dataset, the chances are that we might also have some outliers. In such a scenario, we would not want these outliers to distort your error metric excessively, which could happen with MSE.'],\n",
       " 'Q5': [5.255254235328278, 78668.56502956818],\n",
       " 'Q6': [1000, 581432.8208480775, 560786.7645482323],\n",
       " 'Q7': [3.4724877714627436, 19913],\n",
       " 'Q8': [24656, 67811, 20007, 62526, 0.4725063905614679]}"
      ]
     },
     "execution_count": 93,
     "metadata": {},
     "output_type": "execute_result"
    }
   ],
   "source": [
    "answers"
   ]
  },
  {
   "cell_type": "code",
   "execution_count": null,
   "id": "9bf18ebb-5438-45bf-a3c4-78ecf875ea12",
   "metadata": {},
   "outputs": [],
   "source": [
    "### Question 9"
   ]
  },
  {
   "cell_type": "code",
   "execution_count": 94,
   "id": "d9c36e24-cc1c-4b3b-bc6a-945227697067",
   "metadata": {},
   "outputs": [
    {
     "name": "stdout",
     "output_type": "stream",
     "text": [
      "[1, 2]\n",
      "False\n"
     ]
    }
   ],
   "source": [
    "print(X[0])\n",
    "print(y[0])"
   ]
  },
  {
   "cell_type": "code",
   "execution_count": 95,
   "id": "a9d3ab0b-b3dc-4958-b16c-abd43c8d42dc",
   "metadata": {},
   "outputs": [],
   "source": [
    "scores = mod.decision_function(X)"
   ]
  },
  {
   "cell_type": "code",
   "execution_count": 96,
   "id": "21cd8228-283c-449a-b2d9-560bb0870cb6",
   "metadata": {},
   "outputs": [],
   "source": [
    "scoreslabels = list(zip(scores, y))"
   ]
  },
  {
   "cell_type": "code",
   "execution_count": 97,
   "id": "377968f5-1141-4ade-8f21-f715bdda3297",
   "metadata": {},
   "outputs": [],
   "source": [
    "scoreslabels.sort(reverse=True)"
   ]
  },
  {
   "cell_type": "code",
   "execution_count": 98,
   "id": "b080ca20-9f49-4d49-9a19-99bc2fdec928",
   "metadata": {},
   "outputs": [
    {
     "data": {
      "text/plain": [
       "[(1.477131385394358, True),\n",
       " (1.477131385394358, True),\n",
       " (1.477131385394358, True),\n",
       " (1.477131385394358, True),\n",
       " (1.477131385394358, True),\n",
       " (1.477131385394358, True),\n",
       " (1.477131385394358, False),\n",
       " (1.477131385394358, False),\n",
       " (1.477131385394358, False),\n",
       " (1.477131385394358, False),\n",
       " (1.477131385394358, False),\n",
       " (1.4769373981573968, True),\n",
       " (1.4769373981573968, True),\n",
       " (1.4769373981573968, True),\n",
       " (1.4769373981573968, True)]"
      ]
     },
     "execution_count": 98,
     "metadata": {},
     "output_type": "execute_result"
    }
   ],
   "source": [
    "scoreslabels[:15]"
   ]
  },
  {
   "cell_type": "code",
   "execution_count": null,
   "id": "0f507627-fb5c-4243-b1bf-44c510335b0e",
   "metadata": {},
   "outputs": [],
   "source": [
    "precision = \n",
    "recall = "
   ]
  },
  {
   "cell_type": "code",
   "execution_count": 100,
   "id": "e8039e24-00ad-4264-b7cf-b2ed0eeac4dc",
   "metadata": {},
   "outputs": [],
   "source": [
    "precs = []\n",
    "recs = []\n",
    "\n",
    "for k in [5, 10, 100, 1000]:\n",
    "    # Find the threshold, which is the score at position k-1 because of zero indexing\n",
    "    threshold = scoreslabels[k-1][0] if k <= len(scoreslabels) else scoreslabels[-1][0]\n",
    "    \n",
    "    # Extend k to include all scores equal to the threshold score\n",
    "    k_extended = k\n",
    "    while k_extended < len(scoreslabels) and scoreslabels[k_extended][0] == threshold:\n",
    "        k_extended += 1\n",
    "    \n",
    "    # Count the true positives in the top k_extended scores\n",
    "    true_positives_at_k = sum(1 for score, label in scoreslabels[:k_extended] if label)\n",
    "    \n",
    "    # Calculate precision at k_extended\n",
    "    precision_at_k = true_positives_at_k / k_extended\n",
    "    precs.append(precision_at_k)"
   ]
  },
  {
   "cell_type": "code",
   "execution_count": 101,
   "id": "bf97483c-5429-41de-94f8-8ee7c986c4e9",
   "metadata": {},
   "outputs": [
    {
     "data": {
      "text/plain": [
       "[0.5454545454545454, 0.5454545454545454, 0.67, 0.685]"
      ]
     },
     "execution_count": 101,
     "metadata": {},
     "output_type": "execute_result"
    }
   ],
   "source": [
    "precs"
   ]
  },
  {
   "cell_type": "code",
   "execution_count": 102,
   "id": "eec5822b-ffaf-44bf-9954-e6acf365ca44",
   "metadata": {},
   "outputs": [],
   "source": [
    "answers['Q9'] = precs"
   ]
  },
  {
   "cell_type": "code",
   "execution_count": 103,
   "id": "83bc8b5d-0f18-4cd7-8a31-2152c5aa6bfe",
   "metadata": {},
   "outputs": [],
   "source": [
    "assertFloatList(answers['Q9'], 4)"
   ]
  },
  {
   "cell_type": "code",
   "execution_count": 104,
   "id": "c2cb2b40-1fa4-4e1b-8683-9a1cff04613f",
   "metadata": {},
   "outputs": [
    {
     "data": {
      "text/plain": [
       "{'Q1': [0.007857269704335923, 570936.2842458936],\n",
       " 'Q2': 565419.5340402235,\n",
       " 'Q3': 565405.4395885813,\n",
       " 'Q4': [75735.70018273004,\n",
       "  90.35613031985152,\n",
       "  'I think MAE is the suitable indicator here, by taking the absolute value of errors, treats all deviations from the true values equally. It is thus more robust to outliers compared to MSE, which squares the errors, giving disproportionately high weight to large deviations (outliers). Given that we have widely varying lengths in dataset, the chances are that we might also have some outliers. In such a scenario, we would not want these outliers to distort your error metric excessively, which could happen with MSE.'],\n",
       " 'Q5': [5.255254235328278, 78668.56502956818],\n",
       " 'Q6': [1000, 581432.8208480775, 560786.7645482323],\n",
       " 'Q7': [3.4724877714627436, 19913],\n",
       " 'Q8': [24656, 67811, 20007, 62526, 0.4725063905614679],\n",
       " 'Q9': [0.5454545454545454, 0.5454545454545454, 0.67, 0.685]}"
      ]
     },
     "execution_count": 104,
     "metadata": {},
     "output_type": "execute_result"
    }
   ],
   "source": [
    "answers"
   ]
  },
  {
   "cell_type": "code",
   "execution_count": 105,
   "id": "93ee7932-a6a5-42ac-abcc-eab37879cb2d",
   "metadata": {},
   "outputs": [],
   "source": [
    "### Question 10"
   ]
  },
  {
   "cell_type": "code",
   "execution_count": 106,
   "id": "a45bb070-77bd-49c7-b678-c6cb32c0fbc0",
   "metadata": {},
   "outputs": [],
   "source": [
    "def calculate_ber(TP, TN, FP, FN):\n",
    "    TPR = TP / (TP + FN)\n",
    "    TNR = TN / (TN + FP)\n",
    "    return 1 - 0.5 * (TPR + TNR)"
   ]
  },
  {
   "cell_type": "code",
   "execution_count": 107,
   "id": "1e364b72-3efc-4971-ab96-df54cd87a941",
   "metadata": {},
   "outputs": [],
   "source": [
    "def feat10(datum):\n",
    "    offset = [1]\n",
    "    feat = [len(datum['text'])]\n",
    "    return offset + feat"
   ]
  },
  {
   "cell_type": "code",
   "execution_count": 108,
   "id": "1a81efe7-d9d4-4fcc-a97a-24f60579e146",
   "metadata": {},
   "outputs": [],
   "source": [
    "X = [feat10(d) for d in dataset]\n",
    "y_trans = [d['hours_transformed'] for d in dataset]\n",
    "y_compare_med = [d['hours_transformed'] > median for d in dataset]"
   ]
  },
  {
   "cell_type": "code",
   "execution_count": 109,
   "id": "abcd20c7-7011-4228-a547-30f656efbe1c",
   "metadata": {},
   "outputs": [],
   "source": [
    "mod = linear_model.LinearRegression(fit_intercept=False)\n",
    "mod.fit(X,y_trans)\n",
    "predictions_trans = mod.predict(X)"
   ]
  },
  {
   "cell_type": "code",
   "execution_count": 110,
   "id": "c1a03090-92b0-47d6-9c02-bffedc0c1ebd",
   "metadata": {},
   "outputs": [
    {
     "name": "stdout",
     "output_type": "stream",
     "text": [
      "3.6360712121539693\n",
      "5.3093596678374935\n"
     ]
    }
   ],
   "source": [
    "print(min(predictions_trans))\n",
    "print(max(predictions_trans))"
   ]
  },
  {
   "cell_type": "code",
   "execution_count": 111,
   "id": "a22c9414-b670-402f-89d4-59cc5a088552",
   "metadata": {},
   "outputs": [],
   "source": [
    "best_threshold = None\n",
    "best_ber = inf\n",
    "\n",
    "# Search for the best threshold\n",
    "threshold_values = numpy.linspace(min(predictions_trans), max(predictions_trans), 100)\n",
    "for threshold in threshold_values:\n",
    "    predictions_thresh = [p > threshold for p in predictions_trans]\n",
    "    TP, TN, FP, FN = rates(predictions_thresh, y_compare_med)\n",
    "    ber = calculate_ber(TP, TN, FP, FN)\n",
    "    if ber < best_ber:\n",
    "        best_ber = ber\n",
    "        best_threshold = threshold"
   ]
  },
  {
   "cell_type": "code",
   "execution_count": 112,
   "id": "ffbc17b8-77b2-4859-ab22-7d5466ac6a3d",
   "metadata": {},
   "outputs": [],
   "source": [
    "your_threshold = best_threshold\n",
    "BER = best_ber"
   ]
  },
  {
   "cell_type": "code",
   "execution_count": 113,
   "id": "2a3b82e0-f4bc-4340-88d7-767695611794",
   "metadata": {},
   "outputs": [
    {
     "name": "stdout",
     "output_type": "stream",
     "text": [
      "3.703678826525021\n",
      "0.47153822574126236\n"
     ]
    }
   ],
   "source": [
    "print(your_threshold)\n",
    "print(BER)"
   ]
  },
  {
   "cell_type": "code",
   "execution_count": 114,
   "id": "657ef137-f6a2-4335-bb1a-bb89f9043af3",
   "metadata": {},
   "outputs": [],
   "source": [
    "answers['Q10'] = [your_threshold, BER]"
   ]
  },
  {
   "cell_type": "code",
   "execution_count": 115,
   "id": "8428970c-87bb-482d-97c0-307a72687981",
   "metadata": {},
   "outputs": [],
   "source": [
    "assertFloatList(answers['Q10'], 2)"
   ]
  },
  {
   "cell_type": "code",
   "execution_count": 116,
   "id": "e73337ea-3027-4c5d-83c6-a8334ce85b63",
   "metadata": {},
   "outputs": [
    {
     "data": {
      "text/plain": [
       "{'Q1': [0.007857269704335923, 570936.2842458936],\n",
       " 'Q2': 565419.5340402235,\n",
       " 'Q3': 565405.4395885813,\n",
       " 'Q4': [75735.70018273004,\n",
       "  90.35613031985152,\n",
       "  'I think MAE is the suitable indicator here, by taking the absolute value of errors, treats all deviations from the true values equally. It is thus more robust to outliers compared to MSE, which squares the errors, giving disproportionately high weight to large deviations (outliers). Given that we have widely varying lengths in dataset, the chances are that we might also have some outliers. In such a scenario, we would not want these outliers to distort your error metric excessively, which could happen with MSE.'],\n",
       " 'Q5': [5.255254235328278, 78668.56502956818],\n",
       " 'Q6': [1000, 581432.8208480775, 560786.7645482323],\n",
       " 'Q7': [3.4724877714627436, 19913],\n",
       " 'Q8': [24656, 67811, 20007, 62526, 0.4725063905614679],\n",
       " 'Q9': [0.5454545454545454, 0.5454545454545454, 0.67, 0.685],\n",
       " 'Q10': [3.703678826525021, 0.47153822574126236]}"
      ]
     },
     "execution_count": 116,
     "metadata": {},
     "output_type": "execute_result"
    }
   ],
   "source": [
    "answers"
   ]
  },
  {
   "cell_type": "code",
   "execution_count": 117,
   "id": "b1eae237-7245-4eaa-9433-10929682b5ea",
   "metadata": {},
   "outputs": [],
   "source": [
    "### Question 11"
   ]
  },
  {
   "cell_type": "code",
   "execution_count": 118,
   "id": "0ff806ee-424a-411d-9eef-4dcf5849dee3",
   "metadata": {},
   "outputs": [],
   "source": [
    "dataTrain = dataset[:int(len(dataset)*0.9)]\n",
    "dataTest = dataset[int(len(dataset)*0.9):]"
   ]
  },
  {
   "cell_type": "code",
   "execution_count": 119,
   "id": "95af0f81-aeb6-416f-80e3-1d432d3a1513",
   "metadata": {},
   "outputs": [],
   "source": [
    "userMedian = defaultdict(list)\n",
    "itemMedian = defaultdict(list)\n",
    "\n",
    "# Compute medians on training data\n",
    "for d in dataTrain:\n",
    "    user, item = d['userID'], d['gameID']\n",
    "    userMedian[user].append(d['hours_transformed'])\n",
    "    itemMedian[item].append(d['hours_transformed'])\n",
    "    \n",
    "# Calculate the median play times\n",
    "for user in userMedian:\n",
    "    userMedian[user] = statistics.median(userMedian[user])\n",
    "for item in itemMedian:\n",
    "    itemMedian[item] = statistics.median(itemMedian[item])\n"
   ]
  },
  {
   "cell_type": "code",
   "execution_count": 120,
   "id": "dc15bbee-6cd4-4226-bc4d-b062d711f222",
   "metadata": {},
   "outputs": [],
   "source": [
    "answers['Q11'] = [itemMedian['g35322304'], userMedian['u55351001']]"
   ]
  },
  {
   "cell_type": "code",
   "execution_count": 121,
   "id": "e415df91-206e-45f8-b87b-2a4fe36287e3",
   "metadata": {},
   "outputs": [],
   "source": [
    "assertFloatList(answers['Q11'], 2)"
   ]
  },
  {
   "cell_type": "code",
   "execution_count": 122,
   "id": "ea2d2792-197d-429c-acec-746ee2557457",
   "metadata": {},
   "outputs": [
    {
     "data": {
      "text/plain": [
       "{'Q1': [0.007857269704335923, 570936.2842458936],\n",
       " 'Q2': 565419.5340402235,\n",
       " 'Q3': 565405.4395885813,\n",
       " 'Q4': [75735.70018273004,\n",
       "  90.35613031985152,\n",
       "  'I think MAE is the suitable indicator here, by taking the absolute value of errors, treats all deviations from the true values equally. It is thus more robust to outliers compared to MSE, which squares the errors, giving disproportionately high weight to large deviations (outliers). Given that we have widely varying lengths in dataset, the chances are that we might also have some outliers. In such a scenario, we would not want these outliers to distort your error metric excessively, which could happen with MSE.'],\n",
       " 'Q5': [5.255254235328278, 78668.56502956818],\n",
       " 'Q6': [1000, 581432.8208480775, 560786.7645482323],\n",
       " 'Q7': [3.4724877714627436, 19913],\n",
       " 'Q8': [24656, 67811, 20007, 62526, 0.4725063905614679],\n",
       " 'Q9': [0.5454545454545454, 0.5454545454545454, 0.67, 0.685],\n",
       " 'Q10': [3.703678826525021, 0.47153822574126236],\n",
       " 'Q11': [0.5849625007211562, 2.292781749227846]}"
      ]
     },
     "execution_count": 122,
     "metadata": {},
     "output_type": "execute_result"
    }
   ],
   "source": [
    "answers"
   ]
  },
  {
   "cell_type": "code",
   "execution_count": 123,
   "id": "ec5e1f14-b57d-4a87-b88c-c6c132dafa50",
   "metadata": {},
   "outputs": [],
   "source": [
    "### Question 12"
   ]
  },
  {
   "cell_type": "code",
   "execution_count": 124,
   "id": "4a5c427f-dded-4b46-98aa-1e230a5eedf6",
   "metadata": {},
   "outputs": [],
   "source": [
    "times = [d['hours_transformed'] for d in dataset]\n",
    "globalMedian = statistics.median(times)"
   ]
  },
  {
   "cell_type": "code",
   "execution_count": 125,
   "id": "12dd4c48-77a3-448b-b879-7df5ae555e34",
   "metadata": {},
   "outputs": [],
   "source": [
    "   def f12(u, i):\n",
    "    # Function returns a single value (0 or 1)\n",
    "    # Check if item's median playtime is above global median\n",
    "    if i in itemMedian and itemMedian[i] > globalMedian:\n",
    "        return 1\n",
    "    # If the item hasn't been seen before, check if the user's median playtime is above the global median\n",
    "    elif i not in itemMedian and userMedian.get(u, 0) > globalMedian:\n",
    "        return 1\n",
    "    else:\n",
    "        return 0"
   ]
  },
  {
   "cell_type": "code",
   "execution_count": 126,
   "id": "f5172883-8ae1-4195-a778-da82b97882aa",
   "metadata": {},
   "outputs": [],
   "source": [
    "preds = [f12(d['userID'], d['gameID']) for d in dataTest]"
   ]
  },
  {
   "cell_type": "code",
   "execution_count": 127,
   "id": "a10c4661-b608-4683-93c7-fd672dc7d3c0",
   "metadata": {},
   "outputs": [],
   "source": [
    "# Generate true labels based on whether the actual time played is above the global median or not\n",
    "y = [1 if d['hours_transformed'] > globalMedian else 0 for d in dataTest]"
   ]
  },
  {
   "cell_type": "code",
   "execution_count": 128,
   "id": "4d1a6b07-f6a6-496d-8d37-a4a267c8133b",
   "metadata": {},
   "outputs": [],
   "source": [
    "accuracy = sum([pred == true for pred, true in zip(preds, y)]) / len(y)"
   ]
  },
  {
   "cell_type": "code",
   "execution_count": 129,
   "id": "3ce028ad-ba71-4bd4-beac-a4a286b0fd22",
   "metadata": {},
   "outputs": [],
   "source": [
    "answers['Q12'] = accuracy"
   ]
  },
  {
   "cell_type": "code",
   "execution_count": 130,
   "id": "20b06eb4-cc23-458b-949a-e5999890283d",
   "metadata": {},
   "outputs": [],
   "source": [
    "assertFloat(answers['Q12'])"
   ]
  },
  {
   "cell_type": "code",
   "execution_count": 131,
   "id": "ea53030d-16a4-47d3-8f0c-4ecc0af2f2ab",
   "metadata": {},
   "outputs": [
    {
     "data": {
      "text/plain": [
       "{'Q1': [0.007857269704335923, 570936.2842458936],\n",
       " 'Q2': 565419.5340402235,\n",
       " 'Q3': 565405.4395885813,\n",
       " 'Q4': [75735.70018273004,\n",
       "  90.35613031985152,\n",
       "  'I think MAE is the suitable indicator here, by taking the absolute value of errors, treats all deviations from the true values equally. It is thus more robust to outliers compared to MSE, which squares the errors, giving disproportionately high weight to large deviations (outliers). Given that we have widely varying lengths in dataset, the chances are that we might also have some outliers. In such a scenario, we would not want these outliers to distort your error metric excessively, which could happen with MSE.'],\n",
       " 'Q5': [5.255254235328278, 78668.56502956818],\n",
       " 'Q6': [1000, 581432.8208480775, 560786.7645482323],\n",
       " 'Q7': [3.4724877714627436, 19913],\n",
       " 'Q8': [24656, 67811, 20007, 62526, 0.4725063905614679],\n",
       " 'Q9': [0.5454545454545454, 0.5454545454545454, 0.67, 0.685],\n",
       " 'Q10': [3.703678826525021, 0.47153822574126236],\n",
       " 'Q11': [0.5849625007211562, 2.292781749227846],\n",
       " 'Q12': 0.7410857142857142}"
      ]
     },
     "execution_count": 131,
     "metadata": {},
     "output_type": "execute_result"
    }
   ],
   "source": [
    "answers"
   ]
  },
  {
   "cell_type": "code",
   "execution_count": 132,
   "id": "d1f3e41d-0af0-4281-8d76-204b4f236f06",
   "metadata": {},
   "outputs": [],
   "source": [
    "### Question 13"
   ]
  },
  {
   "cell_type": "code",
   "execution_count": 133,
   "id": "212a1706-63b1-4cc1-a0ed-7b3d4f1020dc",
   "metadata": {},
   "outputs": [],
   "source": [
    "usersPerItem = defaultdict(set) # Maps an item to the users who rated it\n",
    "itemsPerUser = defaultdict(set) # Maps a user to the items that they rated\n",
    "itemNames = {}\n",
    "\n",
    "for d in dataset:\n",
    "    user,item = d['userID'], d['gameID']\n",
    "    usersPerItem[item].add(user)\n",
    "    itemsPerUser[user].add(item)"
   ]
  },
  {
   "cell_type": "code",
   "execution_count": 134,
   "id": "fa9b8026-af94-499a-b6b4-abac20707fb3",
   "metadata": {},
   "outputs": [],
   "source": [
    "def Jaccard(s1, s2):   \n",
    "    numer = len(s1.intersection(s2))\n",
    "    denom = len(s1.union(s2))\n",
    "    if denom == 0:\n",
    "        return 0\n",
    "    return numer / denom"
   ]
  },
  {
   "cell_type": "code",
   "execution_count": 135,
   "id": "42c4ab2e-5d14-4e92-a2dc-1c3ab2711717",
   "metadata": {},
   "outputs": [],
   "source": [
    "def mostSimilar(i, func, N):\n",
    "    similarities = []\n",
    "    users = usersPerItem[i]\n",
    "    for i2 in usersPerItem:\n",
    "        if i2 == i: continue\n",
    "        sim = func(users, usersPerItem[i2])\n",
    "        similarities.append((sim,i2))\n",
    "    similarities.sort(reverse=True)\n",
    "    return similarities[:N]"
   ]
  },
  {
   "cell_type": "code",
   "execution_count": 136,
   "id": "03aa6e09-b189-427e-add1-0420f28bd4f7",
   "metadata": {},
   "outputs": [],
   "source": [
    "ms = mostSimilar(dataset[0]['gameID'], Jaccard, 10)"
   ]
  },
  {
   "cell_type": "code",
   "execution_count": 137,
   "id": "f1a1c229-f264-4d47-8881-628c3dda8ff0",
   "metadata": {},
   "outputs": [],
   "source": [
    "answers['Q13'] = [ms[0][0], ms[-1][0]]"
   ]
  },
  {
   "cell_type": "code",
   "execution_count": 138,
   "id": "78fdd3fc-2811-49f6-aec9-5396e4b3a3b2",
   "metadata": {},
   "outputs": [],
   "source": [
    "assertFloatList(answers['Q13'], 2)"
   ]
  },
  {
   "cell_type": "code",
   "execution_count": 139,
   "id": "7efad25e-c126-483d-a6d1-c4acd3eada6a",
   "metadata": {},
   "outputs": [
    {
     "data": {
      "text/plain": [
       "{'Q1': [0.007857269704335923, 570936.2842458936],\n",
       " 'Q2': 565419.5340402235,\n",
       " 'Q3': 565405.4395885813,\n",
       " 'Q4': [75735.70018273004,\n",
       "  90.35613031985152,\n",
       "  'I think MAE is the suitable indicator here, by taking the absolute value of errors, treats all deviations from the true values equally. It is thus more robust to outliers compared to MSE, which squares the errors, giving disproportionately high weight to large deviations (outliers). Given that we have widely varying lengths in dataset, the chances are that we might also have some outliers. In such a scenario, we would not want these outliers to distort your error metric excessively, which could happen with MSE.'],\n",
       " 'Q5': [5.255254235328278, 78668.56502956818],\n",
       " 'Q6': [1000, 581432.8208480775, 560786.7645482323],\n",
       " 'Q7': [3.4724877714627436, 19913],\n",
       " 'Q8': [24656, 67811, 20007, 62526, 0.4725063905614679],\n",
       " 'Q9': [0.5454545454545454, 0.5454545454545454, 0.67, 0.685],\n",
       " 'Q10': [3.703678826525021, 0.47153822574126236],\n",
       " 'Q11': [0.5849625007211562, 2.292781749227846],\n",
       " 'Q12': 0.7410857142857142,\n",
       " 'Q13': [0.07988165680473373, 0.04390243902439024]}"
      ]
     },
     "execution_count": 139,
     "metadata": {},
     "output_type": "execute_result"
    }
   ],
   "source": [
    "answers"
   ]
  },
  {
   "cell_type": "code",
   "execution_count": 140,
   "id": "90d7f0bc-84ae-4678-ada6-751cafb5cc45",
   "metadata": {},
   "outputs": [],
   "source": [
    "### Question 14"
   ]
  },
  {
   "cell_type": "code",
   "execution_count": 141,
   "id": "347aa9b1-bec7-455c-adcb-3210288586f8",
   "metadata": {},
   "outputs": [],
   "source": [
    "times = [d['hours_transformed'] for d in dataset]\n",
    "globalMedian = statistics.median(times)"
   ]
  },
  {
   "cell_type": "code",
   "execution_count": 142,
   "id": "02e12564-a17b-4457-ace4-96534ad6fc02",
   "metadata": {},
   "outputs": [],
   "source": [
    "def mostSimilar14(i, func, N):\n",
    "    similarities = []\n",
    "    users = usersPerItem[i]\n",
    "    for i2 in usersPerItem:\n",
    "        if i2 == i: continue\n",
    "        sim = func(i, i2)\n",
    "        similarities.append((sim, i2))\n",
    "    similarities.sort(reverse=True)\n",
    "    return similarities[:N]"
   ]
  },
  {
   "cell_type": "code",
   "execution_count": 143,
   "id": "6a6fbba0-2254-4224-9f45-35ebbd7c3a02",
   "metadata": {},
   "outputs": [],
   "source": [
    "ratingDict = {}\n",
    "\n",
    "for d in dataset:\n",
    "    u,i = d['userID'], d['gameID']\n",
    "    lab = 1 if d['hours_transformed'] > globalMedian else -1 # Set the label based on a rule\n",
    "    ratingDict[(u,i)] = lab"
   ]
  },
  {
   "cell_type": "code",
   "execution_count": 144,
   "id": "ce0ac753-059e-4790-ae74-96a91386b5d1",
   "metadata": {},
   "outputs": [],
   "source": [
    "def Cosine(i1, i2):\n",
    "    # Between two items\n",
    "    inter = usersPerItem[i1].intersection(usersPerItem[i2])\n",
    "    numer = sum(ratingDict[(u, i1)] * ratingDict[(u, i2)] for u in inter)\n",
    "    denom1 = sum(ratingDict[(u, i1)]**2 for u in usersPerItem[i1])\n",
    "    denom2 = sum(ratingDict[(u, i2)]**2 for u in usersPerItem[i2])\n",
    "    denom = math.sqrt(denom1) * math.sqrt(denom2)\n",
    "    if denom == 0: return 0\n",
    "    return numer / denom"
   ]
  },
  {
   "cell_type": "code",
   "execution_count": 145,
   "id": "83a1faa7-1ed2-4341-97d6-659362dd444b",
   "metadata": {},
   "outputs": [],
   "source": [
    "ms = mostSimilar14(dataset[0]['gameID'], Cosine, 10)"
   ]
  },
  {
   "cell_type": "code",
   "execution_count": 146,
   "id": "b9af5928-bf04-4e13-a4c7-81ea95b289d9",
   "metadata": {},
   "outputs": [],
   "source": [
    "answers['Q14'] = [ms[0][0], ms[-1][0]]"
   ]
  },
  {
   "cell_type": "code",
   "execution_count": 147,
   "id": "13d61275-9b81-44e4-9243-389413070a8b",
   "metadata": {},
   "outputs": [],
   "source": [
    "assertFloatList(answers['Q14'], 2)"
   ]
  },
  {
   "cell_type": "code",
   "execution_count": 148,
   "id": "aacd8923-e6cc-4cd9-98d3-f30994db9bd8",
   "metadata": {},
   "outputs": [
    {
     "data": {
      "text/plain": [
       "{'Q1': [0.007857269704335923, 570936.2842458936],\n",
       " 'Q2': 565419.5340402235,\n",
       " 'Q3': 565405.4395885813,\n",
       " 'Q4': [75735.70018273004,\n",
       "  90.35613031985152,\n",
       "  'I think MAE is the suitable indicator here, by taking the absolute value of errors, treats all deviations from the true values equally. It is thus more robust to outliers compared to MSE, which squares the errors, giving disproportionately high weight to large deviations (outliers). Given that we have widely varying lengths in dataset, the chances are that we might also have some outliers. In such a scenario, we would not want these outliers to distort your error metric excessively, which could happen with MSE.'],\n",
       " 'Q5': [5.255254235328278, 78668.56502956818],\n",
       " 'Q6': [1000, 581432.8208480775, 560786.7645482323],\n",
       " 'Q7': [3.4724877714627436, 19913],\n",
       " 'Q8': [24656, 67811, 20007, 62526, 0.4725063905614679],\n",
       " 'Q9': [0.5454545454545454, 0.5454545454545454, 0.67, 0.685],\n",
       " 'Q10': [3.703678826525021, 0.47153822574126236],\n",
       " 'Q11': [0.5849625007211562, 2.292781749227846],\n",
       " 'Q12': 0.7410857142857142,\n",
       " 'Q13': [0.07988165680473373, 0.04390243902439024],\n",
       " 'Q14': [0.10251693271055495, 0.061667331307041336]}"
      ]
     },
     "execution_count": 148,
     "metadata": {},
     "output_type": "execute_result"
    }
   ],
   "source": [
    "answers"
   ]
  },
  {
   "cell_type": "code",
   "execution_count": 149,
   "id": "47fa0817-888c-4ae7-8737-668eb0057203",
   "metadata": {},
   "outputs": [],
   "source": [
    "### Question 15"
   ]
  },
  {
   "cell_type": "code",
   "execution_count": 150,
   "id": "0718f92c-a25c-4a4c-aa45-3e2148f520b7",
   "metadata": {},
   "outputs": [],
   "source": [
    "def mostSimilar15(i, func, N):\n",
    "    similarities = []\n",
    "    users = usersPerItem[i]\n",
    "    for i2 in usersPerItem:\n",
    "        if i2 == i: continue\n",
    "        sim = func(i, i2)\n",
    "        similarities.append((sim, i2))\n",
    "    similarities.sort(reverse=True)\n",
    "    return similarities[:N]"
   ]
  },
  {
   "cell_type": "code",
   "execution_count": 151,
   "id": "52a8144b-f4a6-4bad-aafc-eedfdb0056be",
   "metadata": {},
   "outputs": [],
   "source": [
    "ratingDict = {}\n",
    "for d in dataset:\n",
    "    u,i = d['userID'], d['gameID']\n",
    "    lab = d['hours_transformed']# Set the label based on a rule\n",
    "    ratingDict[(u,i)] = lab"
   ]
  },
  {
   "cell_type": "code",
   "execution_count": 152,
   "id": "397e1798-aa3f-41cb-a65f-70f07b84b241",
   "metadata": {},
   "outputs": [],
   "source": [
    "ms = mostSimilar15(dataset[0]['gameID'], Cosine, 10)"
   ]
  },
  {
   "cell_type": "code",
   "execution_count": 153,
   "id": "239ef0bf-6aa8-4674-bd3a-883b6ae2abf0",
   "metadata": {},
   "outputs": [],
   "source": [
    "answers['Q15'] = [ms[0][0], ms[-1][0]]"
   ]
  },
  {
   "cell_type": "code",
   "execution_count": 154,
   "id": "22266119-3af2-458a-801f-4fb6cbbbafe4",
   "metadata": {},
   "outputs": [],
   "source": [
    "assertFloatList(answers['Q15'], 2)"
   ]
  },
  {
   "cell_type": "code",
   "execution_count": 155,
   "id": "19e36856-9392-434b-a0c1-1011ab047b7b",
   "metadata": {},
   "outputs": [
    {
     "data": {
      "text/plain": [
       "{'Q1': [0.007857269704335923, 570936.2842458936],\n",
       " 'Q2': 565419.5340402235,\n",
       " 'Q3': 565405.4395885813,\n",
       " 'Q4': [75735.70018273004,\n",
       "  90.35613031985152,\n",
       "  'I think MAE is the suitable indicator here, by taking the absolute value of errors, treats all deviations from the true values equally. It is thus more robust to outliers compared to MSE, which squares the errors, giving disproportionately high weight to large deviations (outliers). Given that we have widely varying lengths in dataset, the chances are that we might also have some outliers. In such a scenario, we would not want these outliers to distort your error metric excessively, which could happen with MSE.'],\n",
       " 'Q5': [5.255254235328278, 78668.56502956818],\n",
       " 'Q6': [1000, 581432.8208480775, 560786.7645482323],\n",
       " 'Q7': [3.4724877714627436, 19913],\n",
       " 'Q8': [24656, 67811, 20007, 62526, 0.4725063905614679],\n",
       " 'Q9': [0.5454545454545454, 0.5454545454545454, 0.67, 0.685],\n",
       " 'Q10': [3.703678826525021, 0.47153822574126236],\n",
       " 'Q11': [0.5849625007211562, 2.292781749227846],\n",
       " 'Q12': 0.7410857142857142,\n",
       " 'Q13': [0.07988165680473373, 0.04390243902439024],\n",
       " 'Q14': [0.10251693271055495, 0.061667331307041336],\n",
       " 'Q15': [0.3301567230633555, 0.12290154232706597]}"
      ]
     },
     "execution_count": 155,
     "metadata": {},
     "output_type": "execute_result"
    }
   ],
   "source": [
    "answers"
   ]
  }
 ],
 "metadata": {
  "kernelspec": {
   "display_name": "Python 3 (ipykernel)",
   "language": "python",
   "name": "python3"
  },
  "language_info": {
   "codemirror_mode": {
    "name": "ipython",
    "version": 3
   },
   "file_extension": ".py",
   "mimetype": "text/x-python",
   "name": "python",
   "nbconvert_exporter": "python",
   "pygments_lexer": "ipython3",
   "version": "3.11.5"
  }
 },
 "nbformat": 4,
 "nbformat_minor": 5
}
